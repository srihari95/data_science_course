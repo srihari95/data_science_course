{
 "cells": [
  {
   "cell_type": "code",
   "execution_count": 1,
   "id": "endangered-longitude",
   "metadata": {},
   "outputs": [
    {
     "name": "stdout",
     "output_type": "stream",
     "text": [
      "2\n"
     ]
    }
   ],
   "source": [
    "print(1+1)"
   ]
  },
  {
   "cell_type": "code",
   "execution_count": 4,
   "id": "empirical-miami",
   "metadata": {},
   "outputs": [
    {
     "name": "stdout",
     "output_type": "stream",
     "text": [
      "Testing!!\n"
     ]
    }
   ],
   "source": [
    "print(\"Testing!!\")"
   ]
  },
  {
   "cell_type": "code",
   "execution_count": 3,
   "id": "complex-falls",
   "metadata": {},
   "outputs": [
    {
     "name": "stdout",
     "output_type": "stream",
     "text": [
      "Hello World\n"
     ]
    }
   ],
   "source": [
    "print(\"Hello World\")"
   ]
  },
  {
   "cell_type": "markdown",
   "id": "rental-dryer",
   "metadata": {},
   "source": [
    "My title"
   ]
  },
  {
   "cell_type": "markdown",
   "id": "arabic-detail",
   "metadata": {},
   "source": [
    "Testing Mark down\n"
   ]
  },
  {
   "cell_type": "markdown",
   "id": "2e716045-d7cc-4c4f-ad60-78fdc951616e",
   "metadata": {},
   "source": [
    "https://www.cognitiveclass.ai"
   ]
  },
  {
   "cell_type": "markdown",
   "id": "95ccbe07-f096-4fbc-a7ba-ab6ec6e0ec15",
   "metadata": {},
   "source": [
    "# Header 1"
   ]
  },
  {
   "cell_type": "markdown",
   "id": "7e8fc189-7056-47fd-82ae-30cd4c533525",
   "metadata": {},
   "source": [
    "| Header | Header | Header |\n",
    "| ------ | ------ | ------ |\n",
    "|  cell  |  cell  |  cell  |\n",
    "|  cell  |  cell  |  cell  |\n",
    "|  cell  |  cell  |  cell  |\n",
    "|  cell  |  cell  |  cell  |"
   ]
  },
  {
   "cell_type": "code",
   "execution_count": null,
   "id": "2c7249e2-4822-4196-b1c7-b88976063b90",
   "metadata": {},
   "outputs": [],
   "source": []
  }
 ],
 "metadata": {
  "kernelspec": {
   "display_name": "Python",
   "language": "python",
   "name": "conda-env-python-py"
  },
  "language_info": {
   "codemirror_mode": {
    "name": "ipython",
    "version": 3
   },
   "file_extension": ".py",
   "mimetype": "text/x-python",
   "name": "python",
   "nbconvert_exporter": "python",
   "pygments_lexer": "ipython3",
   "version": "3.6.13"
  }
 },
 "nbformat": 4,
 "nbformat_minor": 5
}
